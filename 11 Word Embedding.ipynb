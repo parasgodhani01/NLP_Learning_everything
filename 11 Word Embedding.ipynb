{
 "cells": [
  {
   "cell_type": "markdown",
   "id": "72205afd-7051-40c5-b3a2-9719ce4279f5",
   "metadata": {},
   "source": [
    "Text Embedding Techniques refer to the methods and models used to create these vector representations, including traditional methods (like TFIDF and BOW) and more advanced approaches:\n",
    "\n",
    "1. Word Embedding\n",
    "\n",
    "Word2Vec (SkipGram, Continuous Bag of Words – CBOW)  \n",
    "GloVe (Global Vectors for Word Representation)  \n",
    "fastText  \n",
    "\n",
    "2. Pre-Trained Embedding\n",
    "\n",
    "ELMo (Embeddings from Language Models)  \n",
    "BERT (Bidirectional Encoder Representations from Transformers)"
   ]
  },
  {
   "cell_type": "markdown",
   "id": "7b3393f8-a595-488c-ba9d-714841cf3483",
   "metadata": {},
   "source": [
    "### What is Word Embedding?\n",
    "**Word Embedding is a language modeling technique for mapping words to vectors of real numbers**"
   ]
  },
  {
   "cell_type": "markdown",
   "id": "e27f5222-a4de-4278-8083-5e94bac2859b",
   "metadata": {},
   "source": [
    "**The term used for the representation of words for text analysis**"
   ]
  },
  {
   "cell_type": "markdown",
   "id": "5f81f665-ff82-46b7-87d9-9527a278da8d",
   "metadata": {},
   "source": [
    "**Similar words , similar vectors in vector space , similar meaning**"
   ]
  },
  {
   "cell_type": "code",
   "execution_count": null,
   "id": "a88ce01b-6e77-419a-8c72-dce9e9cab997",
   "metadata": {},
   "outputs": [],
   "source": []
  }
 ],
 "metadata": {
  "kernelspec": {
   "display_name": "Python 3 (ipykernel)",
   "language": "python",
   "name": "python3"
  },
  "language_info": {
   "codemirror_mode": {
    "name": "ipython",
    "version": 3
   },
   "file_extension": ".py",
   "mimetype": "text/x-python",
   "name": "python",
   "nbconvert_exporter": "python",
   "pygments_lexer": "ipython3",
   "version": "3.12.4"
  }
 },
 "nbformat": 4,
 "nbformat_minor": 5
}
