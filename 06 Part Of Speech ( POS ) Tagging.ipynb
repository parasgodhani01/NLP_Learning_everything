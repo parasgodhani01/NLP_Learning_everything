{
 "cells": [
  {
   "cell_type": "markdown",
   "id": "7c59de81-e88c-48a2-8294-3f289030903e",
   "metadata": {},
   "source": [
    "### What is POS(Parts-Of-Speech) Tagging?"
   ]
  },
  {
   "cell_type": "markdown",
   "id": "325df28f-1099-4446-bfc0-e67dbd8627f5",
   "metadata": {},
   "source": [
    "- One of the core tasks in Natural Language Processing (NLP) is Parts of Speech (PoS) tagging, which is giving each word in a text a grammatical category, such as nouns, verbs, adjectives, and adverbs."
   ]
  },
  {
   "cell_type": "markdown",
   "id": "45c85db7-8dbf-4330-99df-8ba87fa61a99",
   "metadata": {},
   "source": [
    "<img src=\"pos.jpg\"></img>"
   ]
  },
  {
   "cell_type": "markdown",
   "id": "d3049676-d50b-4d7a-a6bf-c2d9539b2016",
   "metadata": {},
   "source": [
    "Example of POS Tagging\n",
    "\n",
    "Consider the sentence: “The quick brown fox jumps over the lazy dog.”  \n",
    "\n",
    "After performing POS Tagging:  \n",
    "\n",
    "“The” is tagged as determiner (DT)  \n",
    "“quick” is tagged as adjective (JJ)  \n",
    "“brown” is tagged as adjective (JJ)  \n",
    "“fox” is tagged as noun (NN)  \n",
    "“jumps” is tagged as verb (VBZ)\n",
    "“over” is tagged as preposition (IN)\n",
    "“the” is tagged as determiner (DT)\n",
    "“lazy” is tagged as adjective (JJ)\n",
    "“dog” is tagged as noun (NN)"
   ]
  },
  {
   "cell_type": "code",
   "execution_count": 3,
   "id": "3bc828b6-00ba-4e6e-ba7e-14d39effd6e5",
   "metadata": {},
   "outputs": [],
   "source": [
    "import nltk"
   ]
  },
  {
   "cell_type": "code",
   "execution_count": 5,
   "id": "cbda8d75-061a-4a4b-a9e9-fcc63235015a",
   "metadata": {},
   "outputs": [
    {
     "name": "stderr",
     "output_type": "stream",
     "text": [
      "[nltk_data] Downloading package punkt to C:\\Users\\Paras\n",
      "[nltk_data]     Godhani\\AppData\\Roaming\\nltk_data...\n",
      "[nltk_data]   Package punkt is already up-to-date!\n",
      "[nltk_data] Downloading package averaged_perceptron_tagger to\n",
      "[nltk_data]     C:\\Users\\Paras Godhani\\AppData\\Roaming\\nltk_data...\n",
      "[nltk_data]   Unzipping taggers\\averaged_perceptron_tagger.zip.\n"
     ]
    },
    {
     "data": {
      "text/plain": [
       "True"
      ]
     },
     "execution_count": 5,
     "metadata": {},
     "output_type": "execute_result"
    }
   ],
   "source": [
    "nltk.download('punkt')\n",
    "nltk.download('averaged_perceptron_tagger')"
   ]
  },
  {
   "cell_type": "code",
   "execution_count": 9,
   "id": "d7693a5e-2596-40cd-9cf3-b15a9b4e6a58",
   "metadata": {},
   "outputs": [
    {
     "name": "stdout",
     "output_type": "stream",
     "text": [
      "Original Text:\n",
      "NLTK is a powerful library for natural language processing.\n",
      "\n",
      "PoS Tagging Result:\n",
      "NLTK: NNP\n",
      "is: VBZ\n",
      "a: DT\n",
      "powerful: JJ\n",
      "library: NN\n",
      "for: IN\n",
      "natural: JJ\n",
      "language: NN\n",
      "processing: NN\n",
      ".: .\n"
     ]
    }
   ],
   "source": [
    "# Importing the NLTK library\n",
    "import nltk\n",
    "from nltk.tokenize import word_tokenize\n",
    "from nltk import pos_tag\n",
    " \n",
    "# Sample text\n",
    "text = \"NLTK is a powerful library for natural language processing.\"\n",
    "words = word_tokenize(text)\n",
    "\n",
    "# Performing PoS tagging\n",
    "pos_tags = pos_tag(words)\n",
    " \n",
    "# Displaying the PoS tagged result in separate lines\n",
    "print(\"Original Text:\")\n",
    "print(text)\n",
    " \n",
    "print(\"\\nPoS Tagging Result:\")\n",
    "for word, pos_tag in pos_tags:\n",
    "    print(f\"{word}: {pos_tag}\")"
   ]
  }
 ],
 "metadata": {
  "kernelspec": {
   "display_name": "Python 3 (ipykernel)",
   "language": "python",
   "name": "python3"
  },
  "language_info": {
   "codemirror_mode": {
    "name": "ipython",
    "version": 3
   },
   "file_extension": ".py",
   "mimetype": "text/x-python",
   "name": "python",
   "nbconvert_exporter": "python",
   "pygments_lexer": "ipython3",
   "version": "3.12.4"
  }
 },
 "nbformat": 4,
 "nbformat_minor": 5
}
