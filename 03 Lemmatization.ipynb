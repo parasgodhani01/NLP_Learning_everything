{
 "cells": [
  {
   "cell_type": "markdown",
   "id": "096e0172-ad3f-49b3-a21d-b7395b89d719",
   "metadata": {},
   "source": [
    "#### Lemmatization is the process of reducing a word to its base or root form, typically by removing inflections or variations. It aims to group together different forms of a word to analyze them as a single entity."
   ]
  },
  {
   "cell_type": "markdown",
   "id": "583f07e2-cd86-46ba-905a-627539cebdde",
   "metadata": {},
   "source": [
    "Examples of lemmatization:\n",
    "\n",
    "rocks : rock  \n",
    "corpora : corpus  \n",
    "better : good\n",
    "\n",
    "‘running’ -> ‘run’  \n",
    "‘better’ -> ‘good'   \n",
    "‘went’ -> ‘go  "
   ]
  },
  {
   "cell_type": "code",
   "execution_count": 33,
   "id": "da16216f-23d8-4709-8a60-a3a2e681895c",
   "metadata": {},
   "outputs": [],
   "source": [
    "import nltk"
   ]
  },
  {
   "cell_type": "code",
   "execution_count": 39,
   "id": "6b6ade07-13da-4096-8adf-f3f94dcc59ab",
   "metadata": {},
   "outputs": [
    {
     "name": "stdout",
     "output_type": "stream",
     "text": [
      "rocks : rock\n",
      "corpora : corpus\n",
      "better : good\n"
     ]
    }
   ],
   "source": [
    "# import these modules\n",
    "from nltk.stem import WordNetLemmatizer\n",
    " \n",
    "lemmatizer = WordNetLemmatizer()\n",
    " \n",
    "print(\"rocks :\", lemmatizer.lemmatize(\"rocks\"))\n",
    "print(\"corpora :\", lemmatizer.lemmatize(\"corpora\"))\n",
    " \n",
    "# pos (str) – The Part Of Speech tag. Valid options are “n” for nouns, “v” for verbs, “a” for adjectives, \n",
    "# “r” for adverbs and “s” for satellite adjectives.\n",
    "print(\"better :\", lemmatizer.lemmatize(\"better\", pos=\"a\"))"
   ]
  },
  {
   "cell_type": "code",
   "execution_count": 35,
   "id": "02aaa549-b48e-4e18-bce8-1a00fb8ff395",
   "metadata": {},
   "outputs": [],
   "source": [
    "text = \"\""
   ]
  },
  {
   "cell_type": "code",
   "execution_count": 37,
   "id": "4566950d-01a5-436d-b887-351b95ea9b17",
   "metadata": {},
   "outputs": [
    {
     "name": "stdout",
     "output_type": "stream",
     "text": [
      "Base Text:  The quick brown foxes are jumping over the lazy dogs.\n"
     ]
    }
   ],
   "source": [
    "print(\"Base Text: \", lemmatizer.lemmatize(text))"
   ]
  }
 ],
 "metadata": {
  "kernelspec": {
   "display_name": "Python 3 (ipykernel)",
   "language": "python",
   "name": "python3"
  },
  "language_info": {
   "codemirror_mode": {
    "name": "ipython",
    "version": 3
   },
   "file_extension": ".py",
   "mimetype": "text/x-python",
   "name": "python",
   "nbconvert_exporter": "python",
   "pygments_lexer": "ipython3",
   "version": "3.12.4"
  }
 },
 "nbformat": 4,
 "nbformat_minor": 5
}
