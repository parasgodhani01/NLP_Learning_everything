{
 "cells": [
  {
   "cell_type": "markdown",
   "id": "1a7f41c4-624c-48c0-8e38-936b01492d51",
   "metadata": {},
   "source": [
    "### Stemming in natural language processing reduces words to their base or root form\n",
    "**aiding in text normalization for easier processing. This technique is crucial in tasks like text classification, information retrieval, and text summarization.**"
   ]
  },
  {
   "cell_type": "markdown",
   "id": "855c12ff-1898-4b21-8bb2-23eb439b7759",
   "metadata": {},
   "source": [
    "- It is important to note that stemming is different from Lemmatization.\n",
    "- Lemmatization is the process of reducing a word to its base form, but unlike stemming, it takes into account the context of the word, and it produces a valid word, unlike stemming which may produce a non-word as the root form."
   ]
  },
  {
   "cell_type": "code",
   "execution_count": 1,
   "id": "b6be3262-d305-4c19-9b36-42f5571ae966",
   "metadata": {},
   "outputs": [],
   "source": [
    "from nltk.stem import PorterStemmer"
   ]
  },
  {
   "cell_type": "code",
   "execution_count": 2,
   "id": "45e8d538-1029-4e31-86be-1fa365c111be",
   "metadata": {},
   "outputs": [
    {
     "name": "stdout",
     "output_type": "stream",
     "text": [
      "Original words: ['running', 'jumps', 'happily', 'running', 'happily']\n",
      "Stemmed words: ['run', 'jump', 'happili', 'run', 'happili']\n"
     ]
    }
   ],
   "source": [
    "porter_stem = PorterStemmer()\n",
    "\n",
    "words = [\"running\", \"jumps\", \"happily\", \"running\", \"happily\"]\n",
    "\n",
    "stemmed_words = [porter_stem.stem(word) for word in words]\n",
    "\n",
    "print(\"Original words:\", words)\n",
    "print(\"Stemmed words:\", stemmed_words)"
   ]
  }
 ],
 "metadata": {
  "kernelspec": {
   "display_name": "Python 3 (ipykernel)",
   "language": "python",
   "name": "python3"
  },
  "language_info": {
   "codemirror_mode": {
    "name": "ipython",
    "version": 3
   },
   "file_extension": ".py",
   "mimetype": "text/x-python",
   "name": "python",
   "nbconvert_exporter": "python",
   "pygments_lexer": "ipython3",
   "version": "3.12.4"
  }
 },
 "nbformat": 4,
 "nbformat_minor": 5
}
