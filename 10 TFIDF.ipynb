{
 "cells": [
  {
   "cell_type": "markdown",
   "id": "ee3c04a6-22c2-4dfb-89b7-a54b57d18115",
   "metadata": {},
   "source": [
    "# TF-IDF (Term Frequency-Inverse Document Frequency)"
   ]
  },
  {
   "cell_type": "markdown",
   "id": "3c4a2759-287c-4773-9df1-3b7356da0387",
   "metadata": {},
   "source": [
    "<img src='tfidf.jfif' width=\"800\" height=\"600\"></img>"
   ]
  },
  {
   "cell_type": "code",
   "execution_count": 3,
   "id": "a0603617-6462-4243-b97f-517a6df0aec9",
   "metadata": {},
   "outputs": [],
   "source": [
    "from sklearn.feature_extraction.text import TfidfVectorizer"
   ]
  },
  {
   "cell_type": "code",
   "execution_count": 5,
   "id": "f233c54d-cb3b-4bfb-bace-b4b17eefcb8f",
   "metadata": {},
   "outputs": [],
   "source": [
    "documents = [\n",
    "    \"NLP is a field of AI.\",\n",
    "    \"Machine learning helps NLP models improve.\"\n",
    "]"
   ]
  },
  {
   "cell_type": "code",
   "execution_count": 7,
   "id": "c67466d2-8a4e-43a7-a2d5-c904a68dfa22",
   "metadata": {},
   "outputs": [
    {
     "data": {
      "text/plain": [
       "array([[0.47107781, 0.47107781, 0.        , 0.        , 0.47107781,\n",
       "        0.        , 0.        , 0.        , 0.33517574, 0.47107781],\n",
       "       [0.        , 0.        , 0.4261596 , 0.4261596 , 0.        ,\n",
       "        0.4261596 , 0.4261596 , 0.4261596 , 0.30321606, 0.        ]])"
      ]
     },
     "execution_count": 7,
     "metadata": {},
     "output_type": "execute_result"
    }
   ],
   "source": [
    "tfidf = TfidfVectorizer()\n",
    "tfidf.fit_transform(documents).toarray()"
   ]
  },
  {
   "cell_type": "code",
   "execution_count": null,
   "id": "af435ce2-3b89-4938-8d24-cb6dfa43bf37",
   "metadata": {},
   "outputs": [],
   "source": []
  }
 ],
 "metadata": {
  "kernelspec": {
   "display_name": "Python 3 (ipykernel)",
   "language": "python",
   "name": "python3"
  },
  "language_info": {
   "codemirror_mode": {
    "name": "ipython",
    "version": 3
   },
   "file_extension": ".py",
   "mimetype": "text/x-python",
   "name": "python",
   "nbconvert_exporter": "python",
   "pygments_lexer": "ipython3",
   "version": "3.12.4"
  }
 },
 "nbformat": 4,
 "nbformat_minor": 5
}
